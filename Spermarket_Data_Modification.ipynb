{
 "cells": [
  {
   "cell_type": "code",
   "execution_count": 1,
   "metadata": {},
   "outputs": [],
   "source": [
    "import pandas as pd\n",
    "\n",
    "# 1. Loading dataset\n",
    "df = pd.read_csv(\"SuperMarket Analysis.csv\")\n",
    "\n",
    "# 2. Replacing cities and branches with Sri Lankan equivalents\n",
    "city_map = {\n",
    "    \"Yangon\": \"Colombo\",\n",
    "    \"Naypyitaw\": \"Kandy\",\n",
    "    \"Mandalay\": \"Galle\"\n",
    "}\n",
    "branch_map = {\n",
    "    \"A\": \"Colombo\",\n",
    "    \"B\": \"Kandy\",\n",
    "    \"C\": \"Galle\"\n",
    "}\n",
    "df[\"City\"] = df[\"City\"].replace(city_map)\n",
    "df[\"Branch\"] = df[\"City\"]  # Match branch name to city\n",
    "\n",
    "# 3. Replacing product lines with Sri Lankan FMCG-style categories\n",
    "product_line_map = {\n",
    "    \"Health and beauty\": \"Ayurvedic & Personal Care\",\n",
    "    \"Electronic accessories\": \"Mobile & Accessories\",\n",
    "    \"Home and lifestyle\": \"Household Essentials\",\n",
    "    \"Sports and travel\": \"Travel Packs & Gear\",\n",
    "    \"Food and beverages\": \"Grocery & Snacks\",\n",
    "    \"Fashion accessories\": \"Apparel & Footwear\"\n",
    "}\n",
    "df[\"Product line\"] = df[\"Product line\"].replace(product_line_map)\n",
    "\n",
    "# Converting currency from USD to LKR\n",
    "currency_columns = [\"Unit price\", \"Tax 5%\", \"Sales\", \"cogs\", \"gross income\"]\n",
    "df[currency_columns] = df[currency_columns].apply(lambda x: x * 300)\n",
    "\n",
    "# 4. Updating payment methods\n",
    "payment_map = {\n",
    "    \"Ewallet\": \"Mobile Payment\",\n",
    "    \"Cash\": \"Cash\",\n",
    "    \"Credit card\": \"Credit Card\"\n",
    "}\n",
    "df[\"Payment\"] = df[\"Payment\"].replace(payment_map)\n",
    "\n",
    "# Saving modified dataset\n",
    "df.to_csv(\"Sri_Lanka_Supermarket_Sales.csv\", index=False)\n"
   ]
  },
  {
   "cell_type": "code",
   "execution_count": null,
   "metadata": {},
   "outputs": [],
   "source": []
  }
 ],
 "metadata": {
  "kernelspec": {
   "display_name": "Python 3",
   "language": "python",
   "name": "python3"
  },
  "language_info": {
   "codemirror_mode": {
    "name": "ipython",
    "version": 3
   },
   "file_extension": ".py",
   "mimetype": "text/x-python",
   "name": "python",
   "nbconvert_exporter": "python",
   "pygments_lexer": "ipython3",
   "version": "3.8.5"
  }
 },
 "nbformat": 4,
 "nbformat_minor": 4
}
